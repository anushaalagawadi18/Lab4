{
 "cells": [
  {
   "cell_type": "code",
   "execution_count": 10,
   "id": "a6f22da3",
   "metadata": {},
   "outputs": [
    {
     "name": "stdout",
     "output_type": "stream",
     "text": [
      "Information Gain for age: 0.3219280948873623\n",
      "Information Gain for income: 0.09546184423832171\n",
      "Information Gain for student: 0.12451124978365313\n",
      "Information Gain for credit_rating: 0.01997309402197489\n"
     ]
    }
   ],
   "source": [
    "import pandas as pd\n",
    "import numpy as np\n",
    "import math\n",
    "\n",
    "df = pd.DataFrame({\n",
    "    'age': ['<=30', '<=30', '31...40', '>40', '>40', '>40', '31...40', '<=30', '<=30', '>40'],\n",
    "    'income': ['high', 'high', 'high', 'medium', 'low', 'low', 'medium', 'medium', 'low', 'medium'],\n",
    "    'student': ['no', 'no', 'no', 'no', 'yes', 'yes', 'yes', 'no', 'yes', 'yes'],\n",
    "    'credit_rating': ['fair', 'excellent', 'fair', 'fair', 'fair', 'excellent', 'excellent', 'fair', 'fair', 'excellent'],\n",
    "    'buys_computer': ['no', 'no', 'yes', 'yes', 'yes', 'no', 'yes', 'no', 'yes', 'yes']\n",
    "})\n",
    "\n",
    "def entropy(target):\n",
    "    count = target.value_counts()\n",
    "    length = len(target)\n",
    "    entropy = 0\n",
    "\n",
    "    for val in count:\n",
    "        p = val / length\n",
    "        entropy -= p * math.log2(p)\n",
    "\n",
    "    return entropy\n",
    "\n",
    "def information_gain(dataframe, feature_column, target_column):\n",
    "    entropy_before_split = entropy(dataframe[target_column])\n",
    "    unique_feature_values = dataframe[feature_column].unique()\n",
    "    weighted_entropy = 0\n",
    "\n",
    "    for value in unique_feature_values:\n",
    "        subset = dataframe[dataframe[feature_column] == value]\n",
    "        entropy_value = entropy(subset[target_column])\n",
    "        weight = len(subset) / len(dataframe)\n",
    "        weighted_entropy += weight * entropy_value\n",
    "\n",
    "    information_gain = entropy_before_split - weighted_entropy\n",
    "    return information_gain\n",
    "\n",
    "for column in df.columns[:-1]:\n",
    "    ig = information_gain(df, column, 'buys_computer')\n",
    "    print(f'Information Gain for {column}: {ig}')\n"
   ]
  },
  {
   "cell_type": "code",
   "execution_count": null,
   "id": "2c68ab4e",
   "metadata": {},
   "outputs": [],
   "source": []
  },
  {
   "cell_type": "code",
   "execution_count": null,
   "id": "d162ff70",
   "metadata": {},
   "outputs": [],
   "source": [
    "print(f\"Training Set Accuracy: {train_accuracy}\")\n",
    "print(f\"Tree Depth: {tree_depth}\")"
   ]
  },
  {
   "cell_type": "code",
   "execution_count": null,
   "id": "431175db",
   "metadata": {},
   "outputs": [],
   "source": []
  }
 ],
 "metadata": {
  "kernelspec": {
   "display_name": "Python 3 (ipykernel)",
   "language": "python",
   "name": "python3"
  },
  "language_info": {
   "codemirror_mode": {
    "name": "ipython",
    "version": 3
   },
   "file_extension": ".py",
   "mimetype": "text/x-python",
   "name": "python",
   "nbconvert_exporter": "python",
   "pygments_lexer": "ipython3",
   "version": "3.9.13"
  }
 },
 "nbformat": 4,
 "nbformat_minor": 5
}
